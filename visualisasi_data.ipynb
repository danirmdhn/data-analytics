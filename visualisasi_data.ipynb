{
  "nbformat": 4,
  "nbformat_minor": 0,
  "metadata": {
    "colab": {
      "name": "visualisasi_data.ipynb",
      "provenance": [],
      "mount_file_id": "1X9l2X0LlQSzs1gu7r_l3vFJ3iO835dA4",
      "authorship_tag": "ABX9TyMfb8KCd0M8XZDxqppR6GFk",
      "include_colab_link": true
    },
    "kernelspec": {
      "name": "python3",
      "display_name": "Python 3"
    },
    "language_info": {
      "name": "python"
    }
  },
  "cells": [
    {
      "cell_type": "markdown",
      "metadata": {
        "id": "view-in-github",
        "colab_type": "text"
      },
      "source": [
        "<a href=\"https://colab.research.google.com/github/danirmdhn/data-analytics/blob/main/visualisasi_data.ipynb\" target=\"_parent\"><img src=\"https://colab.research.google.com/assets/colab-badge.svg\" alt=\"Open In Colab\"/></a>"
      ]
    },
    {
      "cell_type": "markdown",
      "metadata": {
        "id": "TDZ7d_Pq-d7C"
      },
      "source": [
        "# Import Library dan Dataset"
      ]
    },
    {
      "cell_type": "code",
      "metadata": {
        "id": "Iru83OpKZUfC"
      },
      "source": [
        "import pandas as pd\n",
        "import matplotlib.pyplot as plt\n",
        "import matplotlib.dates as mdates"
      ],
      "execution_count": 171,
      "outputs": []
    },
    {
      "cell_type": "code",
      "metadata": {
        "id": "Qg6N5MHm158A"
      },
      "source": [
        "fdd=pd.read_csv('/content/drive/MyDrive/Dataset/food_delivery_datasets.csv')"
      ],
      "execution_count": 172,
      "outputs": []
    },
    {
      "cell_type": "markdown",
      "metadata": {
        "id": "WanW8hfc-me-"
      },
      "source": [
        "# Processing Data"
      ]
    },
    {
      "cell_type": "code",
      "metadata": {
        "id": "m1z1NXDC2AZm"
      },
      "source": [
        "fdd['cust_id']=fdd['cust_id'].map(str)"
      ],
      "execution_count": 173,
      "outputs": []
    },
    {
      "cell_type": "code",
      "metadata": {
        "id": "B_owK7oPBvNT",
        "colab": {
          "base_uri": "https://localhost:8080/",
          "height": 424
        },
        "outputId": "2da7c356-f8a2-4b52-bf37-fcac6fde6fcf"
      },
      "source": [
        "fdd=fdd[fdd.status=='Cancelled']\n",
        "fdd.reset_index(drop=True)"
      ],
      "execution_count": 174,
      "outputs": [
        {
          "output_type": "execute_result",
          "data": {
            "text/html": [
              "<div>\n",
              "<style scoped>\n",
              "    .dataframe tbody tr th:only-of-type {\n",
              "        vertical-align: middle;\n",
              "    }\n",
              "\n",
              "    .dataframe tbody tr th {\n",
              "        vertical-align: top;\n",
              "    }\n",
              "\n",
              "    .dataframe thead th {\n",
              "        text-align: right;\n",
              "    }\n",
              "</style>\n",
              "<table border=\"1\" class=\"dataframe\">\n",
              "  <thead>\n",
              "    <tr style=\"text-align: right;\">\n",
              "      <th></th>\n",
              "      <th>order_id</th>\n",
              "      <th>voucher_amount</th>\n",
              "      <th>date_time</th>\n",
              "      <th>eta_seconds</th>\n",
              "      <th>food_price</th>\n",
              "      <th>cust_id</th>\n",
              "      <th>rating</th>\n",
              "      <th>delivery_fee</th>\n",
              "      <th>resto_id</th>\n",
              "      <th>status</th>\n",
              "      <th>random_id</th>\n",
              "    </tr>\n",
              "  </thead>\n",
              "  <tbody>\n",
              "    <tr>\n",
              "      <th>0</th>\n",
              "      <td>FOOD-10888</td>\n",
              "      <td>0</td>\n",
              "      <td>2018-09-18T11:14:27.408029</td>\n",
              "      <td>632</td>\n",
              "      <td>44600</td>\n",
              "      <td>1383625</td>\n",
              "      <td>NaN</td>\n",
              "      <td>10000</td>\n",
              "      <td>742756630</td>\n",
              "      <td>Cancelled</td>\n",
              "      <td>0.208880</td>\n",
              "    </tr>\n",
              "    <tr>\n",
              "      <th>1</th>\n",
              "      <td>FOOD-10394</td>\n",
              "      <td>0</td>\n",
              "      <td>2018-08-07T14:48:42.559078</td>\n",
              "      <td>331</td>\n",
              "      <td>29700</td>\n",
              "      <td>1364703</td>\n",
              "      <td>NaN</td>\n",
              "      <td>16000</td>\n",
              "      <td>742656058</td>\n",
              "      <td>Cancelled</td>\n",
              "      <td>0.640676</td>\n",
              "    </tr>\n",
              "    <tr>\n",
              "      <th>2</th>\n",
              "      <td>FOOD-10731</td>\n",
              "      <td>0</td>\n",
              "      <td>2018-09-08T12:04:40.186645</td>\n",
              "      <td>525</td>\n",
              "      <td>36200</td>\n",
              "      <td>466885</td>\n",
              "      <td>NaN</td>\n",
              "      <td>22000</td>\n",
              "      <td>742731698</td>\n",
              "      <td>Cancelled</td>\n",
              "      <td>0.233675</td>\n",
              "    </tr>\n",
              "    <tr>\n",
              "      <th>3</th>\n",
              "      <td>FOOD-10230</td>\n",
              "      <td>0</td>\n",
              "      <td>2018-07-22T19:04:04.209937</td>\n",
              "      <td>161</td>\n",
              "      <td>40000</td>\n",
              "      <td>1364703</td>\n",
              "      <td>NaN</td>\n",
              "      <td>19000</td>\n",
              "      <td>742539196</td>\n",
              "      <td>Cancelled</td>\n",
              "      <td>0.743930</td>\n",
              "    </tr>\n",
              "    <tr>\n",
              "      <th>4</th>\n",
              "      <td>FOOD-10584</td>\n",
              "      <td>0</td>\n",
              "      <td>2018-08-26T00:58:36.315973</td>\n",
              "      <td>9</td>\n",
              "      <td>38000</td>\n",
              "      <td>1351793</td>\n",
              "      <td>NaN</td>\n",
              "      <td>7000</td>\n",
              "      <td>742721020</td>\n",
              "      <td>Cancelled</td>\n",
              "      <td>0.840597</td>\n",
              "    </tr>\n",
              "    <tr>\n",
              "      <th>...</th>\n",
              "      <td>...</td>\n",
              "      <td>...</td>\n",
              "      <td>...</td>\n",
              "      <td>...</td>\n",
              "      <td>...</td>\n",
              "      <td>...</td>\n",
              "      <td>...</td>\n",
              "      <td>...</td>\n",
              "      <td>...</td>\n",
              "      <td>...</td>\n",
              "      <td>...</td>\n",
              "    </tr>\n",
              "    <tr>\n",
              "      <th>190</th>\n",
              "      <td>FOOD-10839</td>\n",
              "      <td>0</td>\n",
              "      <td>2018-09-15T20:00:42.817206</td>\n",
              "      <td>66</td>\n",
              "      <td>110800</td>\n",
              "      <td>355305</td>\n",
              "      <td>NaN</td>\n",
              "      <td>30000</td>\n",
              "      <td>200001979</td>\n",
              "      <td>Cancelled</td>\n",
              "      <td>0.943491</td>\n",
              "    </tr>\n",
              "    <tr>\n",
              "      <th>191</th>\n",
              "      <td>FOOD-10229</td>\n",
              "      <td>0</td>\n",
              "      <td>2018-07-22T19:01:49.032462</td>\n",
              "      <td>109</td>\n",
              "      <td>40900</td>\n",
              "      <td>1364703</td>\n",
              "      <td>NaN</td>\n",
              "      <td>19000</td>\n",
              "      <td>742539196</td>\n",
              "      <td>Cancelled</td>\n",
              "      <td>0.483035</td>\n",
              "    </tr>\n",
              "    <tr>\n",
              "      <th>192</th>\n",
              "      <td>FOOD-10957</td>\n",
              "      <td>0</td>\n",
              "      <td>2018-09-22T16:47:13.318708</td>\n",
              "      <td>60</td>\n",
              "      <td>252200</td>\n",
              "      <td>1206592</td>\n",
              "      <td>NaN</td>\n",
              "      <td>13000</td>\n",
              "      <td>742587459</td>\n",
              "      <td>Cancelled</td>\n",
              "      <td>0.726522</td>\n",
              "    </tr>\n",
              "    <tr>\n",
              "      <th>193</th>\n",
              "      <td>FOOD-10119</td>\n",
              "      <td>0</td>\n",
              "      <td>2018-07-12T11:18:13.950877</td>\n",
              "      <td>736</td>\n",
              "      <td>56900</td>\n",
              "      <td>304856</td>\n",
              "      <td>NaN</td>\n",
              "      <td>19000</td>\n",
              "      <td>742645951</td>\n",
              "      <td>Cancelled</td>\n",
              "      <td>0.580990</td>\n",
              "    </tr>\n",
              "    <tr>\n",
              "      <th>194</th>\n",
              "      <td>FOOD-10459</td>\n",
              "      <td>0</td>\n",
              "      <td>2018-08-13T14:24:44.933401</td>\n",
              "      <td>303</td>\n",
              "      <td>17400</td>\n",
              "      <td>1360716</td>\n",
              "      <td>NaN</td>\n",
              "      <td>4000</td>\n",
              "      <td>742620429</td>\n",
              "      <td>Cancelled</td>\n",
              "      <td>0.668113</td>\n",
              "    </tr>\n",
              "  </tbody>\n",
              "</table>\n",
              "<p>195 rows × 11 columns</p>\n",
              "</div>"
            ],
            "text/plain": [
              "       order_id  voucher_amount  ...     status  random_id\n",
              "0    FOOD-10888               0  ...  Cancelled   0.208880\n",
              "1    FOOD-10394               0  ...  Cancelled   0.640676\n",
              "2    FOOD-10731               0  ...  Cancelled   0.233675\n",
              "3    FOOD-10230               0  ...  Cancelled   0.743930\n",
              "4    FOOD-10584               0  ...  Cancelled   0.840597\n",
              "..          ...             ...  ...        ...        ...\n",
              "190  FOOD-10839               0  ...  Cancelled   0.943491\n",
              "191  FOOD-10229               0  ...  Cancelled   0.483035\n",
              "192  FOOD-10957               0  ...  Cancelled   0.726522\n",
              "193  FOOD-10119               0  ...  Cancelled   0.580990\n",
              "194  FOOD-10459               0  ...  Cancelled   0.668113\n",
              "\n",
              "[195 rows x 11 columns]"
            ]
          },
          "metadata": {},
          "execution_count": 174
        }
      ]
    },
    {
      "cell_type": "code",
      "metadata": {
        "id": "R7Ef1gKMB-N5"
      },
      "source": [
        "fdd['cancelled_order']=1"
      ],
      "execution_count": 175,
      "outputs": []
    },
    {
      "cell_type": "code",
      "metadata": {
        "colab": {
          "base_uri": "https://localhost:8080/",
          "height": 206
        },
        "id": "RzZbP6Jp9eJV",
        "outputId": "45c371c1-a5e8-4188-86d0-9d10e1230009"
      },
      "source": [
        "fdd=pd.concat([fdd['cust_id'],fdd['status'],fdd['cancelled_order']], axis=1)\n",
        "fdd.columns=['cust_id','status','cancelled_order']\n",
        "fdd.head()"
      ],
      "execution_count": 176,
      "outputs": [
        {
          "output_type": "execute_result",
          "data": {
            "text/html": [
              "<div>\n",
              "<style scoped>\n",
              "    .dataframe tbody tr th:only-of-type {\n",
              "        vertical-align: middle;\n",
              "    }\n",
              "\n",
              "    .dataframe tbody tr th {\n",
              "        vertical-align: top;\n",
              "    }\n",
              "\n",
              "    .dataframe thead th {\n",
              "        text-align: right;\n",
              "    }\n",
              "</style>\n",
              "<table border=\"1\" class=\"dataframe\">\n",
              "  <thead>\n",
              "    <tr style=\"text-align: right;\">\n",
              "      <th></th>\n",
              "      <th>cust_id</th>\n",
              "      <th>status</th>\n",
              "      <th>cancelled_order</th>\n",
              "    </tr>\n",
              "  </thead>\n",
              "  <tbody>\n",
              "    <tr>\n",
              "      <th>20</th>\n",
              "      <td>1383625</td>\n",
              "      <td>Cancelled</td>\n",
              "      <td>1</td>\n",
              "    </tr>\n",
              "    <tr>\n",
              "      <th>22</th>\n",
              "      <td>1364703</td>\n",
              "      <td>Cancelled</td>\n",
              "      <td>1</td>\n",
              "    </tr>\n",
              "    <tr>\n",
              "      <th>29</th>\n",
              "      <td>466885</td>\n",
              "      <td>Cancelled</td>\n",
              "      <td>1</td>\n",
              "    </tr>\n",
              "    <tr>\n",
              "      <th>30</th>\n",
              "      <td>1364703</td>\n",
              "      <td>Cancelled</td>\n",
              "      <td>1</td>\n",
              "    </tr>\n",
              "    <tr>\n",
              "      <th>34</th>\n",
              "      <td>1351793</td>\n",
              "      <td>Cancelled</td>\n",
              "      <td>1</td>\n",
              "    </tr>\n",
              "  </tbody>\n",
              "</table>\n",
              "</div>"
            ],
            "text/plain": [
              "    cust_id     status  cancelled_order\n",
              "20  1383625  Cancelled                1\n",
              "22  1364703  Cancelled                1\n",
              "29   466885  Cancelled                1\n",
              "30  1364703  Cancelled                1\n",
              "34  1351793  Cancelled                1"
            ]
          },
          "metadata": {},
          "execution_count": 176
        }
      ]
    },
    {
      "cell_type": "code",
      "metadata": {
        "colab": {
          "base_uri": "https://localhost:8080/",
          "height": 424
        },
        "id": "9XywRKnQ502I",
        "outputId": "e58940ca-27e0-49de-fd93-21c657e4141f"
      },
      "source": [
        "fdd=fdd.groupby(['cust_id'])\n",
        "fdd1=fdd[['cancelled_order']].sum()\n",
        "fdd1.reset_index()"
      ],
      "execution_count": 177,
      "outputs": [
        {
          "output_type": "execute_result",
          "data": {
            "text/html": [
              "<div>\n",
              "<style scoped>\n",
              "    .dataframe tbody tr th:only-of-type {\n",
              "        vertical-align: middle;\n",
              "    }\n",
              "\n",
              "    .dataframe tbody tr th {\n",
              "        vertical-align: top;\n",
              "    }\n",
              "\n",
              "    .dataframe thead th {\n",
              "        text-align: right;\n",
              "    }\n",
              "</style>\n",
              "<table border=\"1\" class=\"dataframe\">\n",
              "  <thead>\n",
              "    <tr style=\"text-align: right;\">\n",
              "      <th></th>\n",
              "      <th>cust_id</th>\n",
              "      <th>cancelled_order</th>\n",
              "    </tr>\n",
              "  </thead>\n",
              "  <tbody>\n",
              "    <tr>\n",
              "      <th>0</th>\n",
              "      <td>1008998</td>\n",
              "      <td>1</td>\n",
              "    </tr>\n",
              "    <tr>\n",
              "      <th>1</th>\n",
              "      <td>1010922</td>\n",
              "      <td>2</td>\n",
              "    </tr>\n",
              "    <tr>\n",
              "      <th>2</th>\n",
              "      <td>103236</td>\n",
              "      <td>2</td>\n",
              "    </tr>\n",
              "    <tr>\n",
              "      <th>3</th>\n",
              "      <td>1045751</td>\n",
              "      <td>2</td>\n",
              "    </tr>\n",
              "    <tr>\n",
              "      <th>4</th>\n",
              "      <td>1079631</td>\n",
              "      <td>1</td>\n",
              "    </tr>\n",
              "    <tr>\n",
              "      <th>...</th>\n",
              "      <td>...</td>\n",
              "      <td>...</td>\n",
              "    </tr>\n",
              "    <tr>\n",
              "      <th>80</th>\n",
              "      <td>940042</td>\n",
              "      <td>1</td>\n",
              "    </tr>\n",
              "    <tr>\n",
              "      <th>81</th>\n",
              "      <td>943758</td>\n",
              "      <td>2</td>\n",
              "    </tr>\n",
              "    <tr>\n",
              "      <th>82</th>\n",
              "      <td>949010</td>\n",
              "      <td>2</td>\n",
              "    </tr>\n",
              "    <tr>\n",
              "      <th>83</th>\n",
              "      <td>960065</td>\n",
              "      <td>1</td>\n",
              "    </tr>\n",
              "    <tr>\n",
              "      <th>84</th>\n",
              "      <td>979027</td>\n",
              "      <td>1</td>\n",
              "    </tr>\n",
              "  </tbody>\n",
              "</table>\n",
              "<p>85 rows × 2 columns</p>\n",
              "</div>"
            ],
            "text/plain": [
              "    cust_id  cancelled_order\n",
              "0   1008998                1\n",
              "1   1010922                2\n",
              "2    103236                2\n",
              "3   1045751                2\n",
              "4   1079631                1\n",
              "..      ...              ...\n",
              "80   940042                1\n",
              "81   943758                2\n",
              "82   949010                2\n",
              "83   960065                1\n",
              "84   979027                1\n",
              "\n",
              "[85 rows x 2 columns]"
            ]
          },
          "metadata": {},
          "execution_count": 177
        }
      ]
    },
    {
      "cell_type": "code",
      "metadata": {
        "colab": {
          "base_uri": "https://localhost:8080/",
          "height": 424
        },
        "id": "oLJEeA4pCuga",
        "outputId": "f8f8701d-c36c-4a05-8b46-f324f56c3174"
      },
      "source": [
        "fdd=fdd1.sort_values(by='cancelled_order',ascending=False)\n",
        "fdd.reset_index()"
      ],
      "execution_count": 178,
      "outputs": [
        {
          "output_type": "execute_result",
          "data": {
            "text/html": [
              "<div>\n",
              "<style scoped>\n",
              "    .dataframe tbody tr th:only-of-type {\n",
              "        vertical-align: middle;\n",
              "    }\n",
              "\n",
              "    .dataframe tbody tr th {\n",
              "        vertical-align: top;\n",
              "    }\n",
              "\n",
              "    .dataframe thead th {\n",
              "        text-align: right;\n",
              "    }\n",
              "</style>\n",
              "<table border=\"1\" class=\"dataframe\">\n",
              "  <thead>\n",
              "    <tr style=\"text-align: right;\">\n",
              "      <th></th>\n",
              "      <th>cust_id</th>\n",
              "      <th>cancelled_order</th>\n",
              "    </tr>\n",
              "  </thead>\n",
              "  <tbody>\n",
              "    <tr>\n",
              "      <th>0</th>\n",
              "      <td>361927</td>\n",
              "      <td>14</td>\n",
              "    </tr>\n",
              "    <tr>\n",
              "      <th>1</th>\n",
              "      <td>366528</td>\n",
              "      <td>8</td>\n",
              "    </tr>\n",
              "    <tr>\n",
              "      <th>2</th>\n",
              "      <td>1364703</td>\n",
              "      <td>7</td>\n",
              "    </tr>\n",
              "    <tr>\n",
              "      <th>3</th>\n",
              "      <td>466885</td>\n",
              "      <td>6</td>\n",
              "    </tr>\n",
              "    <tr>\n",
              "      <th>4</th>\n",
              "      <td>1472725</td>\n",
              "      <td>6</td>\n",
              "    </tr>\n",
              "    <tr>\n",
              "      <th>...</th>\n",
              "      <td>...</td>\n",
              "      <td>...</td>\n",
              "    </tr>\n",
              "    <tr>\n",
              "      <th>80</th>\n",
              "      <td>22895</td>\n",
              "      <td>1</td>\n",
              "    </tr>\n",
              "    <tr>\n",
              "      <th>81</th>\n",
              "      <td>331176</td>\n",
              "      <td>1</td>\n",
              "    </tr>\n",
              "    <tr>\n",
              "      <th>82</th>\n",
              "      <td>355305</td>\n",
              "      <td>1</td>\n",
              "    </tr>\n",
              "    <tr>\n",
              "      <th>83</th>\n",
              "      <td>357568</td>\n",
              "      <td>1</td>\n",
              "    </tr>\n",
              "    <tr>\n",
              "      <th>84</th>\n",
              "      <td>979027</td>\n",
              "      <td>1</td>\n",
              "    </tr>\n",
              "  </tbody>\n",
              "</table>\n",
              "<p>85 rows × 2 columns</p>\n",
              "</div>"
            ],
            "text/plain": [
              "    cust_id  cancelled_order\n",
              "0    361927               14\n",
              "1    366528                8\n",
              "2   1364703                7\n",
              "3    466885                6\n",
              "4   1472725                6\n",
              "..      ...              ...\n",
              "80    22895                1\n",
              "81   331176                1\n",
              "82   355305                1\n",
              "83   357568                1\n",
              "84   979027                1\n",
              "\n",
              "[85 rows x 2 columns]"
            ]
          },
          "metadata": {},
          "execution_count": 178
        }
      ]
    },
    {
      "cell_type": "markdown",
      "metadata": {
        "id": "QyLKW2tF-rKR"
      },
      "source": [
        "# Visualisasi Data"
      ]
    },
    {
      "cell_type": "code",
      "metadata": {
        "colab": {
          "base_uri": "https://localhost:8080/",
          "height": 641
        },
        "id": "Ab8CV-WeL1sI",
        "outputId": "71a05971-3c5f-4a41-8d2d-b86b658e6847"
      },
      "source": [
        "plt.figure(figsize=(25,10))\n",
        "plt.plot(fdd1)\n",
        "\n",
        "plt.title('Total Order yang Di-cancel Per Customer')\n",
        "plt.xlabel('Customer ID')\n",
        "plt.xticks(rotation=90)\n",
        "plt.ylabel('Freq')\n",
        "\n",
        "plt.show()"
      ],
      "execution_count": 181,
      "outputs": [
        {
          "output_type": "display_data",
          "data": {
            "image/png": "[encoded data removed]",
            "text/plain": [
              "<Figure size 1800x720 with 1 Axes>"
            ]
          },
          "metadata": {
            "needs_background": "light"
          }
        }
      ]
    }
  ]
}